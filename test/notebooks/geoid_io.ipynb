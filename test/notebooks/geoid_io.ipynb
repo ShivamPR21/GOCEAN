{
 "cells": [
  {
   "cell_type": "code",
   "execution_count": 1,
   "metadata": {
    "collapsed": true
   },
   "outputs": [],
   "source": [
    "import re\n",
    "\n",
    "from gocean.io.geoid import GeoidIO\n",
    "from matplotlib import pyplot as plt"
   ]
  },
  {
   "cell_type": "code",
   "execution_count": 2,
   "outputs": [],
   "source": [
    "geoid = GeoidIO(data_dir='../../data')"
   ],
   "metadata": {
    "collapsed": false,
    "pycharm": {
     "name": "#%%\n"
    }
   }
  },
  {
   "cell_type": "code",
   "execution_count": 3,
   "outputs": [],
   "source": [
    "geoid.read()"
   ],
   "metadata": {
    "collapsed": false,
    "pycharm": {
     "name": "#%%\n"
    }
   }
  },
  {
   "cell_type": "code",
   "execution_count": 4,
   "outputs": [
    {
     "data": {
      "text/plain": "        long    lat      geoid\n0      77.77  22.78 -58.897233\n1      77.87  22.78 -58.982584\n2      77.97  22.78 -59.060798\n3      78.07  22.78 -59.127344\n4      78.17  22.78 -59.178009\n...      ...    ...        ...\n37165  98.27   5.18 -20.974614\n37166  98.37   5.18 -20.494548\n37167  98.47   5.18 -19.996221\n37168  98.57   5.18 -19.483223\n37169  98.67   5.18 -18.961050\n\n[37170 rows x 3 columns]",
      "text/html": "<div>\n<style scoped>\n    .dataframe tbody tr th:only-of-type {\n        vertical-align: middle;\n    }\n\n    .dataframe tbody tr th {\n        vertical-align: top;\n    }\n\n    .dataframe thead th {\n        text-align: right;\n    }\n</style>\n<table border=\"1\" class=\"dataframe\">\n  <thead>\n    <tr style=\"text-align: right;\">\n      <th></th>\n      <th>long</th>\n      <th>lat</th>\n      <th>geoid</th>\n    </tr>\n  </thead>\n  <tbody>\n    <tr>\n      <th>0</th>\n      <td>77.77</td>\n      <td>22.78</td>\n      <td>-58.897233</td>\n    </tr>\n    <tr>\n      <th>1</th>\n      <td>77.87</td>\n      <td>22.78</td>\n      <td>-58.982584</td>\n    </tr>\n    <tr>\n      <th>2</th>\n      <td>77.97</td>\n      <td>22.78</td>\n      <td>-59.060798</td>\n    </tr>\n    <tr>\n      <th>3</th>\n      <td>78.07</td>\n      <td>22.78</td>\n      <td>-59.127344</td>\n    </tr>\n    <tr>\n      <th>4</th>\n      <td>78.17</td>\n      <td>22.78</td>\n      <td>-59.178009</td>\n    </tr>\n    <tr>\n      <th>...</th>\n      <td>...</td>\n      <td>...</td>\n      <td>...</td>\n    </tr>\n    <tr>\n      <th>37165</th>\n      <td>98.27</td>\n      <td>5.18</td>\n      <td>-20.974614</td>\n    </tr>\n    <tr>\n      <th>37166</th>\n      <td>98.37</td>\n      <td>5.18</td>\n      <td>-20.494548</td>\n    </tr>\n    <tr>\n      <th>37167</th>\n      <td>98.47</td>\n      <td>5.18</td>\n      <td>-19.996221</td>\n    </tr>\n    <tr>\n      <th>37168</th>\n      <td>98.57</td>\n      <td>5.18</td>\n      <td>-19.483223</td>\n    </tr>\n    <tr>\n      <th>37169</th>\n      <td>98.67</td>\n      <td>5.18</td>\n      <td>-18.961050</td>\n    </tr>\n  </tbody>\n</table>\n<p>37170 rows × 3 columns</p>\n</div>"
     },
     "execution_count": 4,
     "metadata": {},
     "output_type": "execute_result"
    }
   ],
   "source": [
    "geoid.data"
   ],
   "metadata": {
    "collapsed": false,
    "pycharm": {
     "name": "#%%\n"
    }
   }
  },
  {
   "cell_type": "code",
   "execution_count": 5,
   "outputs": [
    {
     "data": {
      "text/plain": "{'lat_max': 22.78,\n 'lat_min': 5.18,\n 'long_min': 77.77,\n 'long_max': 98.67,\n 'latitude_parallels': 177,\n 'longitude_parallels': 210}"
     },
     "execution_count": 5,
     "metadata": {},
     "output_type": "execute_result"
    }
   ],
   "source": [
    "geoid.header"
   ],
   "metadata": {
    "collapsed": false,
    "pycharm": {
     "name": "#%%\n"
    }
   }
  },
  {
   "cell_type": "code",
   "execution_count": 9,
   "outputs": [],
   "source": [
    "geoid.create_geoid_grid()"
   ],
   "metadata": {
    "collapsed": false,
    "pycharm": {
     "name": "#%%\n"
    }
   }
  },
  {
   "cell_type": "code",
   "execution_count": 10,
   "outputs": [
    {
     "data": {
      "text/plain": "<Figure size 432x288 with 1 Axes>",
      "image/png": "[encoded data removed]"
     },
     "metadata": {
      "needs_background": "light"
     },
     "output_type": "display_data"
    }
   ],
   "source": [
    "plt.imshow(geoid.grid[:, :, 2], extent=[geoid.header['long_min'],\n",
    "                                        geoid.header['long_max'],\n",
    "                                        geoid.header['lat_min'],\n",
    "                                        geoid.header['lat_max']])\n",
    "plt.show()"
   ],
   "metadata": {
    "collapsed": false,
    "pycharm": {
     "name": "#%%\n"
    }
   }
  },
  {
   "cell_type": "code",
   "execution_count": 7,
   "outputs": [
    {
     "data": {
      "text/plain": "[77.77, 98.67, 5.18, 22.78]"
     },
     "execution_count": 7,
     "metadata": {},
     "output_type": "execute_result"
    }
   ],
   "source": [
    "[geoid.header['long_min'],\n",
    "                                        geoid.header['long_max'],\n",
    "                                        geoid.header['lat_min'],\n",
    "                                        geoid.header['lat_max']]\n"
   ],
   "metadata": {
    "collapsed": false,
    "pycharm": {
     "name": "#%%\n"
    }
   }
  },
  {
   "cell_type": "code",
   "execution_count": 8,
   "outputs": [
    {
     "ename": "TypeError",
     "evalue": "'NoneType' object is not subscriptable",
     "output_type": "error",
     "traceback": [
      "\u001B[0;31m---------------------------------------------------------------------------\u001B[0m",
      "\u001B[0;31mTypeError\u001B[0m                                 Traceback (most recent call last)",
      "\u001B[0;32m<ipython-input-8-f7239f0578ec>\u001B[0m in \u001B[0;36m<module>\u001B[0;34m\u001B[0m\n\u001B[0;32m----> 1\u001B[0;31m \u001B[0mgeoid\u001B[0m\u001B[0;34m.\u001B[0m\u001B[0mgrid\u001B[0m\u001B[0;34m[\u001B[0m\u001B[0;34m:\u001B[0m\u001B[0;34m,\u001B[0m \u001B[0;34m:\u001B[0m\u001B[0;34m,\u001B[0m \u001B[0;36m2\u001B[0m\u001B[0;34m]\u001B[0m\u001B[0;34m\u001B[0m\u001B[0;34m\u001B[0m\u001B[0m\n\u001B[0m\u001B[1;32m      2\u001B[0m \u001B[0;34m\u001B[0m\u001B[0m\n",
      "\u001B[0;31mTypeError\u001B[0m: 'NoneType' object is not subscriptable"
     ]
    }
   ],
   "source": [
    "geoid.grid[:, :, 2]\n"
   ],
   "metadata": {
    "collapsed": false,
    "pycharm": {
     "name": "#%%\n"
    }
   }
  },
  {
   "cell_type": "code",
   "execution_count": null,
   "outputs": [],
   "source": [],
   "metadata": {
    "collapsed": false,
    "pycharm": {
     "name": "#%%\n"
    }
   }
  }
 ],
 "metadata": {
  "kernelspec": {
   "display_name": "Python 3",
   "language": "python",
   "name": "python3"
  },
  "language_info": {
   "codemirror_mode": {
    "name": "ipython",
    "version": 2
   },
   "file_extension": ".py",
   "mimetype": "text/x-python",
   "name": "python",
   "nbconvert_exporter": "python",
   "pygments_lexer": "ipython2",
   "version": "2.7.6"
  }
 },
 "nbformat": 4,
 "nbformat_minor": 0
}